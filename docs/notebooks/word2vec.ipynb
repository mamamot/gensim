{
 "cells": [
  {
   "cell_type": "markdown",
   "metadata": {},
   "source": [
    "# Word2Vec Tutorial\n",
    "This tutorial follows a [blog post](http://rare-technologies.com/word2vec-tutorial/) written by the creator of gensim."
   ]
  },
  {
   "cell_type": "markdown",
   "metadata": {},
   "source": [
    "## Preparing the Input\n",
    "Starting from the beginning, gensim’s `word2vec` expects a sequence of sentences as its input. Each sentence a list of words (utf8 strings):"
   ]
  },
  {
   "cell_type": "code",
   "execution_count": 1,
   "metadata": {
    "collapsed": true
   },
   "outputs": [],
   "source": [
    "# import modules & set up logging\n",
    "import gensim, logging\n",
    "logging.basicConfig(format='%(asctime)s : %(levelname)s : %(message)s', level=logging.INFO)"
   ]
  },
  {
   "cell_type": "code",
   "execution_count": 2,
   "metadata": {
    "collapsed": false
   },
   "outputs": [
    {
     "name": "stderr",
     "output_type": "stream",
     "text": [
      "2016-11-10 19:28:19,521 : INFO : collecting all words and their counts\n",
      "2016-11-10 19:28:19,525 : INFO : PROGRESS: at sentence #0, processed 0 words, keeping 0 word types\n",
      "2016-11-10 19:28:19,525 : INFO : collected 3 word types from a corpus of 4 raw words and 2 sentences\n",
      "2016-11-10 19:28:19,529 : INFO : min_count=1 retains 3 unique words (drops 0)\n",
      "2016-11-10 19:28:19,533 : INFO : min_count leaves 4 word corpus (100% of original 4)\n",
      "2016-11-10 19:28:19,533 : INFO : deleting the raw counts dictionary of 3 items\n",
      "2016-11-10 19:28:19,533 : INFO : sample=0.001 downsamples 3 most-common words\n",
      "2016-11-10 19:28:19,537 : INFO : downsampling leaves estimated 0 word corpus (5.7% of prior 4)\n",
      "2016-11-10 19:28:19,537 : INFO : estimated required memory for 3 words and 100 dimensions: 3900 bytes\n",
      "2016-11-10 19:28:19,542 : INFO : resetting layer weights\n",
      "2016-11-10 19:28:19,542 : INFO : training model with 3 workers on 3 vocabulary and 100 features, using sg=0 hs=0 sample=0.001 negative=5\n",
      "2016-11-10 19:28:19,542 : INFO : expecting 2 sentences, matching count from corpus used for vocabulary survey\n",
      "2016-11-10 19:28:19,542 : INFO : worker thread finished; awaiting finish of 2 more threads\n",
      "2016-11-10 19:28:19,542 : INFO : worker thread finished; awaiting finish of 1 more threads\n",
      "2016-11-10 19:28:19,542 : INFO : worker thread finished; awaiting finish of 0 more threads\n",
      "2016-11-10 19:28:19,542 : INFO : training on 20 raw words (0 effective words) took 0.0s, 0 effective words/s\n",
      "2016-11-10 19:28:19,559 : WARNING : under 10 jobs per worker: consider setting a smaller `batch_words' for smoother alpha decay\n"
     ]
    }
   ],
   "source": [
    "sentences = [['first', 'sentence'], ['second', 'sentence']]\n",
    "# train word2vec on the two sentences\n",
    "model = gensim.models.Word2Vec(sentences, min_count=1)"
   ]
  },
  {
   "cell_type": "markdown",
   "metadata": {},
   "source": [
    "Keeping the input as a Python built-in list is convenient, but can use up a lot of RAM when the input is large.\n",
    "\n",
    "Gensim only requires that the input must provide sentences sequentially, when iterated over. No need to keep everything in RAM: we can provide one sentence, process it, forget it, load another sentence…\n",
    "\n",
    "For example, if our input is strewn across several files on disk, with one sentence per line, then instead of loading everything into an in-memory list, we can process the input file by file, line by line:"
   ]
  },
  {
   "cell_type": "code",
   "execution_count": 3,
   "metadata": {
    "collapsed": false
   },
   "outputs": [],
   "source": [
    "# create some toy data to use with the following example\n",
    "import smart_open, os\n",
    "\n",
    "if not os.path.exists('./data/'):\n",
    "    os.makedirs('./data/')\n",
    "\n",
    "filenames = ['./data/f1.txt', './data/f2.txt']\n",
    "\n",
    "for i, fname in enumerate(filenames):\n",
    "    with smart_open.smart_open(fname, 'w') as fout:\n",
    "        for line in sentences[i]:\n",
    "            fout.write(line + '\\n')"
   ]
  },
  {
   "cell_type": "code",
   "execution_count": 4,
   "metadata": {
    "collapsed": true
   },
   "outputs": [],
   "source": [
    "class MySentences(object):\n",
    "    def __init__(self, dirname):\n",
    "        self.dirname = dirname\n",
    " \n",
    "    def __iter__(self):\n",
    "        for fname in os.listdir(self.dirname):\n",
    "            for line in open(os.path.join(self.dirname, fname)):\n",
    "                yield line.split()"
   ]
  },
  {
   "cell_type": "code",
   "execution_count": 5,
   "metadata": {
    "collapsed": false
   },
   "outputs": [
    {
     "name": "stdout",
     "output_type": "stream",
     "text": [
      "[['first'], ['sentence'], ['second'], ['sentence']]\n"
     ]
    }
   ],
   "source": [
    "sentences = MySentences('./data/') # a memory-friendly iterator\n",
    "print(list(sentences))"
   ]
  },
  {
   "cell_type": "code",
   "execution_count": 6,
   "metadata": {
    "collapsed": false
   },
   "outputs": [
    {
     "name": "stderr",
     "output_type": "stream",
     "text": [
      "2016-11-10 19:28:20,269 : INFO : collecting all words and their counts\n",
      "2016-11-10 19:28:20,271 : INFO : PROGRESS: at sentence #0, processed 0 words, keeping 0 word types\n",
      "2016-11-10 19:28:20,274 : INFO : collected 3 word types from a corpus of 4 raw words and 4 sentences\n",
      "2016-11-10 19:28:20,275 : INFO : min_count=1 retains 3 unique words (drops 0)\n",
      "2016-11-10 19:28:20,275 : INFO : min_count leaves 4 word corpus (100% of original 4)\n",
      "2016-11-10 19:28:20,279 : INFO : deleting the raw counts dictionary of 3 items\n",
      "2016-11-10 19:28:20,280 : INFO : sample=0.001 downsamples 3 most-common words\n",
      "2016-11-10 19:28:20,280 : INFO : downsampling leaves estimated 0 word corpus (5.7% of prior 4)\n",
      "2016-11-10 19:28:20,280 : INFO : estimated required memory for 3 words and 100 dimensions: 3900 bytes\n",
      "2016-11-10 19:28:20,280 : INFO : resetting layer weights\n",
      "2016-11-10 19:28:20,280 : INFO : training model with 3 workers on 3 vocabulary and 100 features, using sg=0 hs=0 sample=0.001 negative=5\n",
      "2016-11-10 19:28:20,280 : INFO : expecting 4 sentences, matching count from corpus used for vocabulary survey\n",
      "2016-11-10 19:28:20,295 : INFO : worker thread finished; awaiting finish of 2 more threads\n",
      "2016-11-10 19:28:20,295 : INFO : worker thread finished; awaiting finish of 1 more threads\n",
      "2016-11-10 19:28:20,295 : INFO : worker thread finished; awaiting finish of 0 more threads\n",
      "2016-11-10 19:28:20,295 : INFO : training on 20 raw words (0 effective words) took 0.0s, 0 effective words/s\n",
      "2016-11-10 19:28:20,295 : WARNING : under 10 jobs per worker: consider setting a smaller `batch_words' for smoother alpha decay\n"
     ]
    },
    {
     "name": "stdout",
     "output_type": "stream",
     "text": [
      "Word2Vec(vocab=3, size=100, alpha=0.025)\n",
      "{'second': <gensim.models.word2vec.Vocab object at 0x000001E111E39390>, 'sentence': <gensim.models.word2vec.Vocab object at 0x000001E111E39320>, 'first': <gensim.models.word2vec.Vocab object at 0x000001E111E39438>}\n"
     ]
    }
   ],
   "source": [
    "# generate the Word2Vec model\n",
    "model = gensim.models.Word2Vec(sentences, min_count=1)\n",
    "print(model)\n",
    "print(model.vocab)"
   ]
  },
  {
   "cell_type": "markdown",
   "metadata": {},
   "source": [
    "Say we want to further preprocess the words from the files — convert to unicode, lowercase, remove numbers, extract named entities… All of this can be done inside the `MySentences` iterator and `word2vec` doesn’t need to know. All that is required is that the input yields one sentence (list of utf8 words) after another.\n",
    "\n",
    "**Note to advanced users:** calling `Word2Vec(sentences)` will run two passes over the sentences iterator. \n",
    "  1. The first pass collects words and their frequencies to build an internal dictionary tree structure. \n",
    "  2. The second pass trains the neural model.\n",
    "\n",
    "These two passes can also be initiated manually, in case your input stream is non-repeatable (you can only afford one pass), and you’re able to initialize the vocabulary some other way:"
   ]
  },
  {
   "cell_type": "code",
   "execution_count": 7,
   "metadata": {
    "collapsed": false
   },
   "outputs": [
    {
     "name": "stderr",
     "output_type": "stream",
     "text": [
      "2016-11-10 19:28:20,410 : INFO : collecting all words and their counts\n",
      "2016-11-10 19:28:20,414 : INFO : PROGRESS: at sentence #0, processed 0 words, keeping 0 word types\n",
      "2016-11-10 19:28:20,414 : INFO : collected 3 word types from a corpus of 4 raw words and 4 sentences\n",
      "2016-11-10 19:28:20,414 : INFO : min_count=1 retains 3 unique words (drops 0)\n",
      "2016-11-10 19:28:20,414 : INFO : min_count leaves 4 word corpus (100% of original 4)\n",
      "2016-11-10 19:28:20,414 : INFO : deleting the raw counts dictionary of 3 items\n",
      "2016-11-10 19:28:20,414 : INFO : sample=0.001 downsamples 3 most-common words\n",
      "2016-11-10 19:28:20,414 : INFO : downsampling leaves estimated 0 word corpus (5.7% of prior 4)\n",
      "2016-11-10 19:28:20,414 : INFO : estimated required memory for 3 words and 100 dimensions: 3900 bytes\n",
      "2016-11-10 19:28:20,430 : INFO : resetting layer weights\n",
      "2016-11-10 19:28:20,430 : INFO : training model with 3 workers on 3 vocabulary and 100 features, using sg=0 hs=0 sample=0.001 negative=5\n",
      "2016-11-10 19:28:20,430 : INFO : expecting 4 sentences, matching count from corpus used for vocabulary survey\n",
      "2016-11-10 19:28:20,430 : INFO : worker thread finished; awaiting finish of 2 more threads\n",
      "2016-11-10 19:28:20,430 : INFO : worker thread finished; awaiting finish of 1 more threads\n",
      "2016-11-10 19:28:20,430 : INFO : worker thread finished; awaiting finish of 0 more threads\n",
      "2016-11-10 19:28:20,447 : INFO : training on 20 raw words (0 effective words) took 0.0s, 0 effective words/s\n",
      "2016-11-10 19:28:20,447 : WARNING : under 10 jobs per worker: consider setting a smaller `batch_words' for smoother alpha decay\n"
     ]
    },
    {
     "name": "stdout",
     "output_type": "stream",
     "text": [
      "Word2Vec(vocab=3, size=100, alpha=0.025)\n",
      "{'second': <gensim.models.word2vec.Vocab object at 0x000001E111E39390>, 'sentence': <gensim.models.word2vec.Vocab object at 0x000001E111E39320>, 'first': <gensim.models.word2vec.Vocab object at 0x000001E111E39438>}\n"
     ]
    }
   ],
   "source": [
    "# build the same model, making the 2 steps explicit\n",
    "new_model = gensim.models.Word2Vec(min_count=1)  # an empty model, no training\n",
    "new_model.build_vocab(sentences)                 # can be a non-repeatable, 1-pass generator     \n",
    "new_model.train(sentences)                       # can be a non-repeatable, 1-pass generator\n",
    "print(new_model)\n",
    "print(model.vocab)"
   ]
  },
  {
   "cell_type": "markdown",
   "metadata": {},
   "source": [
    "## More data would be nice\n",
    "For the following examples, we'll use the Lee Corpus (which you already have if you've installed gensim):"
   ]
  },
  {
   "cell_type": "code",
   "execution_count": 8,
   "metadata": {
    "collapsed": true
   },
   "outputs": [],
   "source": [
    "# Set file names for train and test data\n",
    "test_data_dir = '{}'.format(os.sep).join([gensim.__path__[0], 'test', 'test_data']) + os.sep\n",
    "lee_train_file = test_data_dir + 'lee_background.cor'"
   ]
  },
  {
   "cell_type": "code",
   "execution_count": 9,
   "metadata": {
    "collapsed": false
   },
   "outputs": [
    {
     "name": "stdout",
     "output_type": "stream",
     "text": [
      "<__main__.MyText object at 0x000001E111E300F0>\n"
     ]
    }
   ],
   "source": [
    "class MyText(object):\n",
    "    def __iter__(self):\n",
    "        for line in open(lee_train_file):\n",
    "            # assume there's one document per line, tokens separated by whitespace\n",
    "            yield line.lower().split()\n",
    "\n",
    "sentences = MyText()\n",
    "\n",
    "print(sentences)"
   ]
  },
  {
   "cell_type": "markdown",
   "metadata": {},
   "source": [
    "## Training\n",
    "`Word2Vec` accepts several parameters that affect both training speed and quality.\n",
    "\n",
    "One of them is for pruning the internal dictionary. Words that appear only once or twice in a billion-word corpus are probably uninteresting typos and garbage. In addition, there’s not enough data to make any meaningful training on those words, so it’s best to ignore them:"
   ]
  },
  {
   "cell_type": "code",
   "execution_count": 10,
   "metadata": {
    "collapsed": false
   },
   "outputs": [
    {
     "name": "stderr",
     "output_type": "stream",
     "text": [
      "2016-11-10 19:28:21,077 : INFO : collecting all words and their counts\n",
      "2016-11-10 19:28:21,081 : INFO : PROGRESS: at sentence #0, processed 0 words, keeping 0 word types\n",
      "2016-11-10 19:28:21,133 : INFO : collected 10186 word types from a corpus of 59890 raw words and 300 sentences\n",
      "2016-11-10 19:28:21,149 : INFO : min_count=10 retains 806 unique words (drops 9380)\n",
      "2016-11-10 19:28:21,153 : INFO : min_count leaves 40964 word corpus (68% of original 59890)\n",
      "2016-11-10 19:28:21,176 : INFO : deleting the raw counts dictionary of 10186 items\n",
      "2016-11-10 19:28:21,189 : INFO : sample=0.001 downsamples 54 most-common words\n",
      "2016-11-10 19:28:21,193 : INFO : downsampling leaves estimated 26224 word corpus (64.0% of prior 40964)\n",
      "2016-11-10 19:28:21,197 : INFO : estimated required memory for 806 words and 100 dimensions: 1047800 bytes\n",
      "2016-11-10 19:28:21,209 : INFO : resetting layer weights\n",
      "2016-11-10 19:28:21,253 : INFO : training model with 3 workers on 806 vocabulary and 100 features, using sg=0 hs=0 sample=0.001 negative=5\n",
      "2016-11-10 19:28:21,253 : INFO : expecting 300 sentences, matching count from corpus used for vocabulary survey\n",
      "2016-11-10 19:28:21,800 : INFO : worker thread finished; awaiting finish of 2 more threads\n",
      "2016-11-10 19:28:21,803 : INFO : worker thread finished; awaiting finish of 1 more threads\n",
      "2016-11-10 19:28:21,814 : INFO : worker thread finished; awaiting finish of 0 more threads\n",
      "2016-11-10 19:28:21,816 : INFO : training on 299450 raw words (131085 effective words) took 0.6s, 235653 effective words/s\n"
     ]
    }
   ],
   "source": [
    "# default value of min_count=5\n",
    "model = gensim.models.Word2Vec(sentences, min_count=10)"
   ]
  },
  {
   "cell_type": "code",
   "execution_count": 11,
   "metadata": {
    "collapsed": false
   },
   "outputs": [
    {
     "name": "stderr",
     "output_type": "stream",
     "text": [
      "2016-11-10 19:28:21,830 : INFO : collecting all words and their counts\n",
      "2016-11-10 19:28:21,832 : INFO : PROGRESS: at sentence #0, processed 0 words, keeping 0 word types\n",
      "2016-11-10 19:28:21,885 : INFO : collected 10186 word types from a corpus of 59890 raw words and 300 sentences\n",
      "2016-11-10 19:28:21,909 : INFO : min_count=5 retains 1723 unique words (drops 8463)\n",
      "2016-11-10 19:28:21,910 : INFO : min_count leaves 46858 word corpus (78% of original 59890)\n",
      "2016-11-10 19:28:21,927 : INFO : deleting the raw counts dictionary of 10186 items\n",
      "2016-11-10 19:28:21,931 : INFO : sample=0.001 downsamples 49 most-common words\n",
      "2016-11-10 19:28:21,934 : INFO : downsampling leaves estimated 32849 word corpus (70.1% of prior 46858)\n",
      "2016-11-10 19:28:21,939 : INFO : estimated required memory for 1723 words and 200 dimensions: 3618300 bytes\n",
      "2016-11-10 19:28:21,960 : INFO : resetting layer weights\n",
      "2016-11-10 19:28:22,096 : INFO : training model with 3 workers on 1723 vocabulary and 200 features, using sg=0 hs=0 sample=0.001 negative=5\n",
      "2016-11-10 19:28:22,099 : INFO : expecting 300 sentences, matching count from corpus used for vocabulary survey\n",
      "2016-11-10 19:28:22,681 : INFO : worker thread finished; awaiting finish of 2 more threads\n",
      "2016-11-10 19:28:22,688 : INFO : worker thread finished; awaiting finish of 1 more threads\n",
      "2016-11-10 19:28:22,696 : INFO : worker thread finished; awaiting finish of 0 more threads\n",
      "2016-11-10 19:28:22,699 : INFO : training on 299450 raw words (164316 effective words) took 0.6s, 278938 effective words/s\n"
     ]
    }
   ],
   "source": [
    "# default value of size=100\n",
    "model = gensim.models.Word2Vec(sentences, size=200)"
   ]
  },
  {
   "cell_type": "markdown",
   "metadata": {},
   "source": [
    "Bigger size values require more training data, but can lead to better (more accurate) models. Reasonable values are in the tens to hundreds.\n",
    "\n",
    "The last of the major parameters (full list [here](http://radimrehurek.com/gensim/models/word2vec.html#gensim.models.word2vec.Word2Vec)) is for training parallelization, to speed up training:"
   ]
  },
  {
   "cell_type": "code",
   "execution_count": 12,
   "metadata": {
    "collapsed": false
   },
   "outputs": [
    {
     "name": "stderr",
     "output_type": "stream",
     "text": [
      "2016-11-10 19:28:22,730 : INFO : collecting all words and their counts\n",
      "2016-11-10 19:28:22,740 : INFO : PROGRESS: at sentence #0, processed 0 words, keeping 0 word types\n",
      "2016-11-10 19:28:22,802 : INFO : collected 10186 word types from a corpus of 59890 raw words and 300 sentences\n",
      "2016-11-10 19:28:22,834 : INFO : min_count=5 retains 1723 unique words (drops 8463)\n",
      "2016-11-10 19:28:22,839 : INFO : min_count leaves 46858 word corpus (78% of original 59890)\n",
      "2016-11-10 19:28:22,868 : INFO : deleting the raw counts dictionary of 10186 items\n",
      "2016-11-10 19:28:22,871 : INFO : sample=0.001 downsamples 49 most-common words\n",
      "2016-11-10 19:28:22,873 : INFO : downsampling leaves estimated 32849 word corpus (70.1% of prior 46858)\n",
      "2016-11-10 19:28:22,876 : INFO : estimated required memory for 1723 words and 100 dimensions: 2239900 bytes\n",
      "2016-11-10 19:28:22,914 : INFO : resetting layer weights\n",
      "2016-11-10 19:28:23,059 : INFO : training model with 4 workers on 1723 vocabulary and 100 features, using sg=0 hs=0 sample=0.001 negative=5\n",
      "2016-11-10 19:28:23,064 : INFO : expecting 300 sentences, matching count from corpus used for vocabulary survey\n",
      "2016-11-10 19:28:23,640 : INFO : worker thread finished; awaiting finish of 3 more threads\n",
      "2016-11-10 19:28:23,654 : INFO : worker thread finished; awaiting finish of 2 more threads\n",
      "2016-11-10 19:28:23,685 : INFO : worker thread finished; awaiting finish of 1 more threads\n",
      "2016-11-10 19:28:23,687 : INFO : worker thread finished; awaiting finish of 0 more threads\n",
      "2016-11-10 19:28:23,691 : INFO : training on 299450 raw words (164152 effective words) took 0.6s, 266718 effective words/s\n",
      "2016-11-10 19:28:23,694 : WARNING : under 10 jobs per worker: consider setting a smaller `batch_words' for smoother alpha decay\n"
     ]
    }
   ],
   "source": [
    "# default value of workers=3 (tutorial says 1...)\n",
    "model = gensim.models.Word2Vec(sentences, workers=4)"
   ]
  },
  {
   "cell_type": "markdown",
   "metadata": {},
   "source": [
    "The `workers` parameter only has an effect if you have [Cython](http://cython.org/) installed. Without Cython, you’ll only be able to use one core because of the [GIL](https://wiki.python.org/moin/GlobalInterpreterLock) (and `word2vec` training will be [miserably slow](http://rare-technologies.com/word2vec-in-python-part-two-optimizing/))."
   ]
  },
  {
   "cell_type": "markdown",
   "metadata": {},
   "source": [
    "## Memory\n",
    "At its core, `word2vec` model parameters are stored as matrices (NumPy arrays). Each array is **#vocabulary** (controlled by min_count parameter) times **#size** (size parameter) of floats (single precision aka 4 bytes).\n",
    "\n",
    "Three such matrices are held in RAM (work is underway to reduce that number to two, or even one). So if your input contains 100,000 unique words, and you asked for layer `size=200`, the model will require approx. `100,000*200*4*3 bytes = ~229MB`.\n",
    "\n",
    "There’s a little extra memory needed for storing the vocabulary tree (100,000 words would take a few megabytes), but unless your words are extremely loooong strings, memory footprint will be dominated by the three matrices above."
   ]
  },
  {
   "cell_type": "markdown",
   "metadata": {},
   "source": [
    "## Evaluating\n",
    "`Word2Vec` training is an unsupervised task, there’s no good way to objectively evaluate the result. Evaluation depends on your end application.\n",
    "\n",
    "Google have released their testing set of about 20,000 syntactic and semantic test examples, following the “A is to B as C is to D” task. You can download a zip file [here](https://storage.googleapis.com/google-code-archive-source/v2/code.google.com/word2vec/source-archive.zip), and unzip it, to get the `questions-words.txt` file used below."
   ]
  },
  {
   "cell_type": "markdown",
   "metadata": {},
   "source": [
    "Gensim support the same evaluation set, in exactly the same format:"
   ]
  },
  {
   "cell_type": "code",
   "execution_count": 13,
   "metadata": {
    "collapsed": false
   },
   "outputs": [
    {
     "name": "stderr",
     "output_type": "stream",
     "text": [
      "2016-11-10 19:28:23,910 : INFO : precomputing L2-norms of word weight vectors\n",
      "2016-11-10 19:28:23,924 : INFO : family: 0.0% (0/2)\n",
      "2016-11-10 19:28:24,024 : INFO : gram3-comparative: 0.0% (0/12)\n",
      "2016-11-10 19:28:24,060 : INFO : gram4-superlative: 0.0% (0/12)\n",
      "2016-11-10 19:28:24,123 : INFO : gram5-present-participle: 0.0% (0/20)\n",
      "2016-11-10 19:28:24,173 : INFO : gram6-nationality-adjective: 0.0% (0/20)\n",
      "2016-11-10 19:28:24,233 : INFO : gram7-past-tense: 0.0% (0/20)\n",
      "2016-11-10 19:28:24,267 : INFO : gram8-plural: 0.0% (0/12)\n",
      "2016-11-10 19:28:24,282 : INFO : total: 0.0% (0/98)\n"
     ]
    }
   ],
   "source": [
    "try:\n",
    "    model.accuracy('./datasets/questions-words.txt')\n",
    "except FileNotFoundError:\n",
    "    raise ValueError(\"SKIP: please download the questions-word.txt file.\")"
   ]
  },
  {
   "cell_type": "markdown",
   "metadata": {},
   "source": [
    "This `accuracy` takes an \n",
    "[optional parameter](http://radimrehurek.com/gensim/models/word2vec.html#gensim.models.word2vec.Word2Vec.accuracy) `restrict_vocab` \n",
    "which limits which test examples are to be considered.\n",
    "\n",
    "Once again, **good performance on this test set doesn’t mean word2vec will work well in your application, or vice versa**. It’s always best to evaluate directly on your intended task."
   ]
  },
  {
   "cell_type": "markdown",
   "metadata": {},
   "source": [
    "## Storing and loading models\n",
    "You can store/load models using the standard gensim methods:"
   ]
  },
  {
   "cell_type": "code",
   "execution_count": 14,
   "metadata": {
    "collapsed": false
   },
   "outputs": [
    {
     "name": "stderr",
     "output_type": "stream",
     "text": [
      "2016-11-10 19:28:24,311 : INFO : saving Word2Vec object under C:\\Users\\vtush\\AppData\\Local\\Temp\\tmpp36mst2qgensim_temp, separately None\n",
      "2016-11-10 19:28:24,320 : INFO : not storing attribute syn0norm\n",
      "2016-11-10 19:28:24,322 : INFO : not storing attribute cum_table\n",
      "2016-11-10 19:28:24,366 : INFO : loading Word2Vec object from C:\\Users\\vtush\\AppData\\Local\\Temp\\tmpp36mst2qgensim_temp\n",
      "2016-11-10 19:28:24,397 : INFO : setting ignored attribute syn0norm to None\n",
      "2016-11-10 19:28:24,398 : INFO : setting ignored attribute cum_table to None\n"
     ]
    }
   ],
   "source": [
    "from tempfile import mkstemp\n",
    "\n",
    "fs, temp_path = mkstemp(\"gensim_temp\")  # creates a temp file\n",
    "\n",
    "model.save(temp_path)  # save the model\n",
    "new_model = gensim.models.Word2Vec.load(temp_path)  # open the model"
   ]
  },
  {
   "cell_type": "markdown",
   "metadata": {},
   "source": [
    "which uses pickle internally, optionally `mmap`‘ing the model’s internal large NumPy matrices into virtual memory directly from disk files, for inter-process memory sharing.\n",
    "\n",
    "In addition, you can load models created by the original C tool, both using its text and binary formats:\n",
    "\n",
    "    model = gensim.models.Word2Vec.load_word2vec_format('/tmp/vectors.txt', binary=False)\n",
    "    # using gzipped/bz2 input works too, no need to unzip:\n",
    "    model = gensim.models.Word2Vec.load_word2vec_format('/tmp/vectors.bin.gz', binary=True)"
   ]
  },
  {
   "cell_type": "markdown",
   "metadata": {},
   "source": [
    "## Online training / Resuming training\n",
    "Advanced users can load a model and continue training it with more sentences:"
   ]
  },
  {
   "cell_type": "code",
   "execution_count": 15,
   "metadata": {
    "collapsed": false
   },
   "outputs": [
    {
     "name": "stderr",
     "output_type": "stream",
     "text": [
      "2016-11-10 19:28:24,507 : INFO : loading Word2Vec object from C:\\Users\\vtush\\AppData\\Local\\Temp\\tmpp36mst2qgensim_temp\n",
      "2016-11-10 19:28:24,615 : INFO : setting ignored attribute syn0norm to None\n",
      "2016-11-10 19:28:24,620 : INFO : setting ignored attribute cum_table to None\n",
      "2016-11-10 19:28:24,637 : INFO : training model with 4 workers on 1723 vocabulary and 100 features, using sg=0 hs=0 sample=0.001 negative=5\n",
      "2016-11-10 19:28:24,640 : INFO : expecting 300 sentences, matching count from corpus used for vocabulary survey\n",
      "2016-11-10 19:28:24,650 : INFO : worker thread finished; awaiting finish of 3 more threads\n",
      "2016-11-10 19:28:24,654 : INFO : worker thread finished; awaiting finish of 2 more threads\n",
      "2016-11-10 19:28:24,659 : INFO : worker thread finished; awaiting finish of 1 more threads\n",
      "2016-11-10 19:28:24,663 : INFO : worker thread finished; awaiting finish of 0 more threads\n",
      "2016-11-10 19:28:24,666 : INFO : training on 320 raw words (36 effective words) took 0.0s, 2052 effective words/s\n",
      "2016-11-10 19:28:24,669 : WARNING : under 10 jobs per worker: consider setting a smaller `batch_words' for smoother alpha decay\n",
      "2016-11-10 19:28:24,671 : WARNING : supplied example count (65) did not equal expected count (1500)\n"
     ]
    }
   ],
   "source": [
    "model = gensim.models.Word2Vec.load(temp_path)\n",
    "more_sentences = ['Advanced', 'users', 'can', 'load', 'a', 'model', 'and', 'continue', \n",
    "                  'training', 'it', 'with', 'more', 'sentences']\n",
    "model.train(more_sentences)\n",
    "\n",
    "# cleaning up temp\n",
    "os.close(fs)\n",
    "os.remove(temp_path)"
   ]
  },
  {
   "cell_type": "markdown",
   "metadata": {},
   "source": [
    "You may need to tweak the `total_words` parameter to `train()`, depending on what learning rate decay you want to simulate.\n",
    "\n",
    "Note that it’s not possible to resume training with models generated by the C tool, `load_word2vec_format()`. You can still use them for querying/similarity, but information vital for training (the vocab tree) is missing there.\n",
    "\n",
    "## Using the model\n",
    "`Word2Vec` supports several word similarity tasks out of the box:"
   ]
  },
  {
   "cell_type": "code",
   "execution_count": 16,
   "metadata": {
    "collapsed": false
   },
   "outputs": [
    {
     "name": "stderr",
     "output_type": "stream",
     "text": [
      "2016-11-10 19:28:24,739 : INFO : precomputing L2-norms of word weight vectors\n"
     ]
    },
    {
     "data": {
      "text/plain": [
       "[('far', 0.9905146360397339)]"
      ]
     },
     "execution_count": 16,
     "metadata": {},
     "output_type": "execute_result"
    }
   ],
   "source": [
    "model.most_similar(positive=['human', 'crime'], negative=['party'], topn=1)"
   ]
  },
  {
   "cell_type": "code",
   "execution_count": 17,
   "metadata": {
    "collapsed": false
   },
   "outputs": [
    {
     "data": {
      "text/plain": [
       "'sentence'"
      ]
     },
     "execution_count": 17,
     "metadata": {},
     "output_type": "execute_result"
    }
   ],
   "source": [
    "model.doesnt_match(\"input is lunch he sentence cat\".split())"
   ]
  },
  {
   "cell_type": "code",
   "execution_count": 18,
   "metadata": {
    "collapsed": false
   },
   "outputs": [
    {
     "name": "stdout",
     "output_type": "stream",
     "text": [
      "0.999397021779\n",
      "0.994639666296\n"
     ]
    }
   ],
   "source": [
    "print(model.similarity('human', 'party'))\n",
    "print(model.similarity('tree', 'murder'))"
   ]
  },
  {
   "cell_type": "markdown",
   "metadata": {},
   "source": [
    "If you need the raw output vectors in your application, you can access these either on a word-by-word basis:"
   ]
  },
  {
   "cell_type": "code",
   "execution_count": 19,
   "metadata": {
    "collapsed": false
   },
   "outputs": [
    {
     "data": {
      "text/plain": [
       "array([ 0.0129236 , -0.04627566, -0.01077281,  0.02019315, -0.04912261,\n",
       "       -0.01477702,  0.03356161,  0.00266525,  0.02809421,  0.01202157,\n",
       "       -0.03432563, -0.01136982, -0.0103232 , -0.06312485, -0.00771275,\n",
       "        0.012601  ,  0.05340691,  0.0548443 , -0.01060832,  0.01924257,\n",
       "       -0.07651207, -0.00080719,  0.01463398, -0.01514605, -0.01436063,\n",
       "       -0.04011078,  0.02258537,  0.03720149,  0.02813212,  0.00419395,\n",
       "       -0.01009519, -0.06079235,  0.06957994, -0.04331882,  0.00960023,\n",
       "       -0.0071871 ,  0.08013803, -0.06772202, -0.01903094, -0.00066973,\n",
       "       -0.06936473, -0.00116428,  0.03776711, -0.00531811, -0.00416031,\n",
       "        0.04436193,  0.02074978,  0.01759907, -0.04600459,  0.07960982,\n",
       "        0.07946361, -0.02700096, -0.04801841, -0.04432948,  0.03373136,\n",
       "        0.05676608, -0.02725234, -0.05159596,  0.01617298,  0.08130913,\n",
       "       -0.02067144,  0.06205077, -0.00053941,  0.03779722, -0.02158519,\n",
       "       -0.0324785 , -0.0363324 , -0.01082932,  0.0451992 , -0.04989661,\n",
       "        0.04537224,  0.02891352, -0.05652002, -0.01716365,  0.03826233,\n",
       "       -0.03752048,  0.00402929,  0.02999442, -0.01447441, -0.00340919,\n",
       "        0.03057505, -0.02691425,  0.03452323,  0.04787725,  0.09143219,\n",
       "       -0.03607763,  0.00411661, -0.03625512, -0.00568598,  0.05050977,\n",
       "        0.03662742, -0.02768328,  0.02271648, -0.03228199,  0.0509298 ,\n",
       "        0.00832424,  0.03325488,  0.01906159, -0.04031231,  0.03316405], dtype=float32)"
      ]
     },
     "execution_count": 19,
     "metadata": {},
     "output_type": "execute_result"
    }
   ],
   "source": [
    "model['tree']  # raw NumPy vector of a word"
   ]
  },
  {
   "cell_type": "markdown",
   "metadata": {},
   "source": [
    "…or en-masse as a 2D NumPy matrix from `model.syn0`.\n",
    "\n",
    "## Outro\n",
    "There is a **Bonus App** on the original [blog post](http://rare-technologies.com/word2vec-tutorial/), which runs `word2vec` on the Google News dataset, of **about 100 billion words**.\n",
    "\n",
    "Full `word2vec` API docs [here](http://radimrehurek.com/gensim/models/word2vec.html); get [gensim](http://radimrehurek.com/gensim/) here. Original C toolkit and `word2vec` papers by Google [here](https://code.google.com/archive/p/word2vec/)."
   ]
  }
 ],
 "metadata": {
  "anaconda-cloud": {},
  "kernelspec": {
   "display_name": "Python [default]",
   "language": "python",
   "name": "python3"
  },
  "language_info": {
   "codemirror_mode": {
    "name": "ipython",
    "version": 3
   },
   "file_extension": ".py",
   "mimetype": "text/x-python",
   "name": "python",
   "nbconvert_exporter": "python",
   "pygments_lexer": "ipython3",
   "version": "3.5.2"
  }
 },
 "nbformat": 4,
 "nbformat_minor": 0
}
